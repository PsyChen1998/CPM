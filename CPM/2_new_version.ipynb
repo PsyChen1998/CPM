{
 "cells": [
  {
   "cell_type": "code",
   "execution_count": 1,
   "id": "initial_id",
   "metadata": {
    "collapsed": true,
    "ExecuteTime": {
     "end_time": "2024-08-23T04:28:50.221248Z",
     "start_time": "2024-08-23T04:28:48.856796Z"
    }
   },
   "outputs": [],
   "source": [
    "import pandas as pd\n",
    "from CPM import CPMRegressor\n",
    "import joblib\n",
    "import numpy as np"
   ]
  },
  {
   "cell_type": "code",
   "outputs": [],
   "source": [
    "# from 1_original_version.ipynb\n",
    "indices = joblib.load('indices')\n",
    "all_masks = joblib.load('all_masks')\n",
    "subject_list = joblib.load('sub_list_noNA')\n",
    "behav_obs_pred = joblib.load('behav_obs_pred').map(float)\n",
    "\n",
    "# train the new model\n",
    "y = pd.read_csv('../../../data/age.csv', index_col=0)\n",
    "X = pd.read_pickle('../../../data/movie.dataframe')"
   ],
   "metadata": {
    "collapsed": false,
    "ExecuteTime": {
     "end_time": "2024-08-23T04:28:50.923217Z",
     "start_time": "2024-08-23T04:28:50.222267Z"
    }
   },
   "id": "28716f6b93ff3964",
   "execution_count": 2
  },
  {
   "cell_type": "code",
   "outputs": [
    {
     "name": "stdout",
     "output_type": "stream",
     "text": [
      "#----------------------------------\n",
      "fold-0: positive mask is all same? : True\n",
      "fold-0: negative mask is all same? : True\n",
      "fold-0: positive predict is all same? : r = 1.0000  new = 10.96, old = 10.96\n",
      "fold-0: negative predict is all same? : r = 1.0000   new = 10.90, old = 10.90\n",
      "fold-0: GLM predict is all same? : r = 1.0000  new = 11.08, old = 11.08\n",
      "#----------------------------------\n",
      "fold-1: positive mask is all same? : True\n",
      "fold-1: negative mask is all same? : True\n",
      "fold-1: positive predict is all same? : r = 1.0000  new = 10.99, old = 10.99\n",
      "fold-1: negative predict is all same? : r = 1.0000   new = 10.98, old = 10.98\n",
      "fold-1: GLM predict is all same? : r = 1.0000  new = 10.86, old = 10.86\n",
      "#----------------------------------\n",
      "fold-2: positive mask is all same? : True\n",
      "fold-2: negative mask is all same? : True\n",
      "fold-2: positive predict is all same? : r = 1.0000  new = 10.93, old = 10.93\n",
      "fold-2: negative predict is all same? : r = 1.0000   new = 11.01, old = 11.01\n",
      "fold-2: GLM predict is all same? : r = 1.0000  new = 10.93, old = 10.93\n"
     ]
    }
   ],
   "source": [
    "for fold in range(3):\n",
    "    test_this_subs = [x for i, x in enumerate(subject_list) if indices[i] == fold]\n",
    "    train_this_subs = [x for i, x in enumerate(subject_list) if indices[i] != fold]\n",
    "\n",
    "    y_test = y.loc[test_this_subs]\n",
    "    X_test = X.loc[test_this_subs]\n",
    "    y_train = y.loc[train_this_subs]\n",
    "    X_train = X.loc[train_this_subs]\n",
    "\n",
    "    model = CPMRegressor(threshold=0.05)\n",
    "    model.fit(X_train, y_train.values.flat)\n",
    "\n",
    "    new_test = y_test\n",
    "\n",
    "    old_df = behav_obs_pred.query('`test fold` == @fold')\n",
    "    new_df = model.predict(X_test)\n",
    "\n",
    "    print(\n",
    "        '#----------------------------------',\n",
    "        f'fold-{fold}: '\n",
    "        f'positive mask is all same? : {all(all_masks[\"pos\"][fold] == model.mask[\"positive\"])}',\n",
    "        f'fold-{fold}: '\n",
    "        f'negative mask is all same? : {all(all_masks[\"neg\"][fold] == model.mask[\"negative\"])}',\n",
    "\n",
    "        f'fold-{fold}: '\n",
    "        f'positive predict is all same? : '\n",
    "        f'r = {np.corrcoef(new_df[\"positive\"], old_df[\"emotion predicted (pos)\"])[0, 1]:.4f}  '\n",
    "        f'new = {np.mean(new_df[\"positive\"]):.2f}, old = {np.mean(old_df[\"emotion predicted (pos)\"]):.2f}',\n",
    "\n",
    "        f'fold-{fold}: '\n",
    "        f'negative predict is all same? : '\n",
    "        f'r = {np.corrcoef(new_df[\"negative\"], old_df[\"emotion predicted (neg)\"])[0, 1]:.4f}   '\n",
    "        f'new = {np.mean(new_df[\"negative\"]):.2f}, old = {np.mean(old_df[\"emotion predicted (neg)\"]):.2f}',\n",
    "\n",
    "        f'fold-{fold}: '\n",
    "        f'GLM predict is all same? : '\n",
    "        f'r = {np.corrcoef(new_df[\"both\"], old_df[\"emotion predicted (glm)\"])[0, 1]:.4f}  '\n",
    "        f'new = {np.mean(new_df[\"both\"]):.2f}, old = {np.mean(old_df[\"emotion predicted (glm)\"]):.2f}',\n",
    "\n",
    "        sep='\\n'\n",
    "    )"
   ],
   "metadata": {
    "collapsed": false,
    "ExecuteTime": {
     "end_time": "2024-08-23T04:29:14.615617Z",
     "start_time": "2024-08-23T04:28:50.925228Z"
    }
   },
   "id": "beaedb689e4995ae",
   "execution_count": 3
  },
  {
   "cell_type": "code",
   "outputs": [],
   "source": [],
   "metadata": {
    "collapsed": false,
    "ExecuteTime": {
     "end_time": "2024-08-23T04:29:14.620856Z",
     "start_time": "2024-08-23T04:29:14.617626Z"
    }
   },
   "id": "d6b8b490c130cedc",
   "execution_count": 3
  }
 ],
 "metadata": {
  "kernelspec": {
   "name": "ml",
   "language": "python",
   "display_name": "ML"
  },
  "language_info": {
   "codemirror_mode": {
    "name": "ipython",
    "version": 2
   },
   "file_extension": ".py",
   "mimetype": "text/x-python",
   "name": "python",
   "nbconvert_exporter": "python",
   "pygments_lexer": "ipython2",
   "version": "2.7.6"
  }
 },
 "nbformat": 4,
 "nbformat_minor": 5
}
